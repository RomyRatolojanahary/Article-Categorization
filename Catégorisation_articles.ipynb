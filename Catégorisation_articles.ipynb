{
 "cells": [
  {
   "cell_type": "markdown",
   "metadata": {},
   "source": [
    "## Objectif\n",
    "Définir la catégorie d'un article : A1, C2 ou E3."
   ]
  },
  {
   "cell_type": "markdown",
   "metadata": {},
   "source": [
    "## Chargement des données"
   ]
  },
  {
   "cell_type": "code",
   "execution_count": 1,
   "metadata": {
    "collapsed": true
   },
   "outputs": [],
   "source": [
    "#import des librairies\n",
    "import numpy as np\n",
    "np.set_printoptions(threshold=np.nan)\n",
    "import pandas as pd\n",
    "import warnings\n",
    "import matplotlib.pyplot as plt\n",
    "warnings.filterwarnings('ignore')\n",
    "import nltk\n",
    "\n",
    "from nltk.corpus import stopwords\n",
    "from nltk.corpus import wordnet as wn"
   ]
  },
  {
   "cell_type": "code",
   "execution_count": 2,
   "metadata": {
    "collapsed": false
   },
   "outputs": [],
   "source": [
    "#import des données\n",
    "train = pd.read_csv('./data_train.csv', delimiter=',')\n",
    "test = pd.read_csv('./data_test.csv', delimiter=',')\n"
   ]
  },
  {
   "cell_type": "code",
   "execution_count": 3,
   "metadata": {
    "collapsed": false
   },
   "outputs": [
    {
     "data": {
      "text/html": [
       "<div>\n",
       "<table border=\"1\" class=\"dataframe\">\n",
       "  <thead>\n",
       "    <tr style=\"text-align: right;\">\n",
       "      <th></th>\n",
       "      <th>pmid</th>\n",
       "      <th>year</th>\n",
       "      <th>title</th>\n",
       "      <th>abstract</th>\n",
       "      <th>label</th>\n",
       "    </tr>\n",
       "  </thead>\n",
       "  <tbody>\n",
       "    <tr>\n",
       "      <th>0</th>\n",
       "      <td>27597064</td>\n",
       "      <td>2016</td>\n",
       "      <td>Re: Enzalutamide versus Bicalutamide in Castra...</td>\n",
       "      <td>NaN</td>\n",
       "      <td>E3</td>\n",
       "    </tr>\n",
       "    <tr>\n",
       "      <th>1</th>\n",
       "      <td>25046451</td>\n",
       "      <td>2015</td>\n",
       "      <td>Cytotoxic chemotherapy in the contemporary man...</td>\n",
       "      <td>For several years, docetaxel was the only trea...</td>\n",
       "      <td>C2</td>\n",
       "    </tr>\n",
       "    <tr>\n",
       "      <th>2</th>\n",
       "      <td>25193433</td>\n",
       "      <td>2014</td>\n",
       "      <td>Effectiveness and safety of cabazitaxel plus p...</td>\n",
       "      <td>To report the efficacy and safety of using cab...</td>\n",
       "      <td>C2</td>\n",
       "    </tr>\n",
       "    <tr>\n",
       "      <th>3</th>\n",
       "      <td>27815387</td>\n",
       "      <td>2016</td>\n",
       "      <td>Polycomb-Mediated Disruption of an Androgen Re...</td>\n",
       "      <td>The lethal phenotype of castration-resistant p...</td>\n",
       "      <td>E3</td>\n",
       "    </tr>\n",
       "    <tr>\n",
       "      <th>4</th>\n",
       "      <td>25687355</td>\n",
       "      <td>2015</td>\n",
       "      <td>Safety and effectiveness of enzalutamide in me...</td>\n",
       "      <td>Enzalutamide (MDV3100) is a second-generation ...</td>\n",
       "      <td>E3</td>\n",
       "    </tr>\n",
       "  </tbody>\n",
       "</table>\n",
       "</div>"
      ],
      "text/plain": [
       "       pmid  year                                              title  \\\n",
       "0  27597064  2016  Re: Enzalutamide versus Bicalutamide in Castra...   \n",
       "1  25046451  2015  Cytotoxic chemotherapy in the contemporary man...   \n",
       "2  25193433  2014  Effectiveness and safety of cabazitaxel plus p...   \n",
       "3  27815387  2016  Polycomb-Mediated Disruption of an Androgen Re...   \n",
       "4  25687355  2015  Safety and effectiveness of enzalutamide in me...   \n",
       "\n",
       "                                            abstract label  \n",
       "0                                                NaN    E3  \n",
       "1  For several years, docetaxel was the only trea...    C2  \n",
       "2  To report the efficacy and safety of using cab...    C2  \n",
       "3  The lethal phenotype of castration-resistant p...    E3  \n",
       "4  Enzalutamide (MDV3100) is a second-generation ...    E3  "
      ]
     },
     "execution_count": 3,
     "metadata": {},
     "output_type": "execute_result"
    }
   ],
   "source": [
    "train.head(5)"
   ]
  },
  {
   "cell_type": "code",
   "execution_count": 4,
   "metadata": {
    "collapsed": false
   },
   "outputs": [
    {
     "data": {
      "text/html": [
       "<div>\n",
       "<table border=\"1\" class=\"dataframe\">\n",
       "  <thead>\n",
       "    <tr style=\"text-align: right;\">\n",
       "      <th></th>\n",
       "      <th>pmid</th>\n",
       "      <th>year</th>\n",
       "      <th>title</th>\n",
       "      <th>abstract</th>\n",
       "    </tr>\n",
       "  </thead>\n",
       "  <tbody>\n",
       "    <tr>\n",
       "      <th>0</th>\n",
       "      <td>21382150</td>\n",
       "      <td>2011</td>\n",
       "      <td>Current and emerging treatment modalities for ...</td>\n",
       "      <td>Docetaxel-based therapy is established as the ...</td>\n",
       "    </tr>\n",
       "    <tr>\n",
       "      <th>1</th>\n",
       "      <td>27018069</td>\n",
       "      <td>2016</td>\n",
       "      <td>Enzalutamide in Japanese patients with chemoth...</td>\n",
       "      <td>To evaluate the treatment effects, safety and ...</td>\n",
       "    </tr>\n",
       "    <tr>\n",
       "      <th>2</th>\n",
       "      <td>24314736</td>\n",
       "      <td>2013</td>\n",
       "      <td>[Corticotherapy in castration-resistant prosta...</td>\n",
       "      <td>Corticosteroids are commonly used in the treat...</td>\n",
       "    </tr>\n",
       "    <tr>\n",
       "      <th>3</th>\n",
       "      <td>25907622</td>\n",
       "      <td>2015</td>\n",
       "      <td>Clinical outcomes in a contemporary series of ...</td>\n",
       "      <td>The prognosis of younger patients with prostat...</td>\n",
       "    </tr>\n",
       "    <tr>\n",
       "      <th>4</th>\n",
       "      <td>26633646</td>\n",
       "      <td>2015</td>\n",
       "      <td>Systemic Medical Treatment in Men with Metasta...</td>\n",
       "      <td>The approval or clinical evaluation of several...</td>\n",
       "    </tr>\n",
       "  </tbody>\n",
       "</table>\n",
       "</div>"
      ],
      "text/plain": [
       "       pmid  year                                              title  \\\n",
       "0  21382150  2011  Current and emerging treatment modalities for ...   \n",
       "1  27018069  2016  Enzalutamide in Japanese patients with chemoth...   \n",
       "2  24314736  2013  [Corticotherapy in castration-resistant prosta...   \n",
       "3  25907622  2015  Clinical outcomes in a contemporary series of ...   \n",
       "4  26633646  2015  Systemic Medical Treatment in Men with Metasta...   \n",
       "\n",
       "                                            abstract  \n",
       "0  Docetaxel-based therapy is established as the ...  \n",
       "1  To evaluate the treatment effects, safety and ...  \n",
       "2  Corticosteroids are commonly used in the treat...  \n",
       "3  The prognosis of younger patients with prostat...  \n",
       "4  The approval or clinical evaluation of several...  "
      ]
     },
     "execution_count": 4,
     "metadata": {},
     "output_type": "execute_result"
    }
   ],
   "source": [
    "test.head(5)"
   ]
  },
  {
   "cell_type": "markdown",
   "metadata": {},
   "source": [
    "## Traitement des données manquantes\n",
    "\n",
    "Nous allons supprimer les observations dont au moins une colonne n'est pas renseignée (NaN)"
   ]
  },
  {
   "cell_type": "code",
   "execution_count": 5,
   "metadata": {
    "collapsed": true
   },
   "outputs": [],
   "source": [
    "def cleandata(df):\n",
    "    # Nombre d'observations\n",
    "    n_obs = df.shape[0]\n",
    "    print(\"n_obs  = %d\" %n_obs)\n",
    "    # On enlève les lignes contenant des NaN\n",
    "    df.dropna(inplace=True) \n",
    "    n_obs2 = df.shape[0]\n",
    "    print(\"n_obs sans NA  = %d\" %n_obs2)"
   ]
  },
  {
   "cell_type": "code",
   "execution_count": 6,
   "metadata": {
    "collapsed": false
   },
   "outputs": [
    {
     "name": "stdout",
     "output_type": "stream",
     "text": [
      "n_obs  = 150\n",
      "n_obs sans NA  = 128\n"
     ]
    }
   ],
   "source": [
    "cleandata(train)"
   ]
  },
  {
   "cell_type": "code",
   "execution_count": 7,
   "metadata": {
    "collapsed": false
   },
   "outputs": [
    {
     "name": "stdout",
     "output_type": "stream",
     "text": [
      "n_obs  = 45\n",
      "n_obs sans NA  = 40\n"
     ]
    }
   ],
   "source": [
    "cleandata(test)"
   ]
  },
  {
   "cell_type": "code",
   "execution_count": 8,
   "metadata": {
    "collapsed": true
   },
   "outputs": [],
   "source": [
    "#Proportion de A1, C2 et E3\n",
    "def visualizedata(df):\n",
    "    print(df.groupby(['label']).size())\n",
    "    df.groupby(['label']).size().plot.bar()\n",
    "    plt.show()"
   ]
  },
  {
   "cell_type": "code",
   "execution_count": 9,
   "metadata": {
    "collapsed": false
   },
   "outputs": [
    {
     "name": "stdout",
     "output_type": "stream",
     "text": [
      "label\n",
      "A1    42\n",
      "C2    47\n",
      "E3    39\n",
      "dtype: int64\n"
     ]
    },
    {
     "data": {
      "image/png": "[encoded data removed]",
      "text/plain": [
       "<matplotlib.figure.Figure at 0x204e1fc17f0>"
      ]
     },
     "metadata": {},
     "output_type": "display_data"
    }
   ],
   "source": [
    "visualizedata(train)"
   ]
  },
  {
   "cell_type": "markdown",
   "metadata": {},
   "source": [
    "## Préparation des données\n",
    "Nous allons lemmatiser les mots, enlever les 'stopwords' (et les signes de ponctuations) puis vectoriser les colonnes 'title' et 'abstract'."
   ]
  },
  {
   "cell_type": "code",
   "execution_count": 10,
   "metadata": {
    "collapsed": true
   },
   "outputs": [],
   "source": [
    "from nltk.stem import WordNetLemmatizer\n",
    "\n",
    "import string\n",
    "stopwords = nltk.corpus.stopwords.words('english') \n",
    "add_words = []\n",
    "add_words.extend([char for char in string.punctuation])\n",
    "for w in add_words:\n",
    "    stopwords.append(w)\n",
    "\n",
    "def processobs(sentence):\n",
    "    #on tokenise la phrase\n",
    "    tokens = nltk.word_tokenize(sentence)\n",
    "    #on associe à chaque mot sa nature grammaticale\n",
    "    tokenspos = nltk.pos_tag(tokens)\n",
    "    #on lemmatise chaque mot\n",
    "    lemmas = lemmatizer(tokenspos)\n",
    "    #on enlève les stopwords\n",
    "    nostopwords =  removestopwords(lemmas)\n",
    "    #on remet sous forme de string\n",
    "    return listtostring(nostopwords)\n",
    "\n",
    "def lemmatizer(tokenspos): # Entrée de la forme [(mot1,tag1),(mot2,tag2)....]\n",
    "    wordnet_lemmatizer = WordNetLemmatizer()\n",
    "    posVerb = []\n",
    "    for t in tokenspos:\n",
    "        if t[1][0] == 'V':\n",
    "            posVerb.append(wordnet_lemmatizer.lemmatize(t[0],pos='v'))\n",
    "        else:\n",
    "            posVerb.append(wordnet_lemmatizer.lemmatize(t[0]))\n",
    "    return posVerb \n",
    "\n",
    "def removestopwords(lemmas):\n",
    "    out = []\n",
    "    for t in lemmas:\n",
    "        if t.lower() not in stopwords:\n",
    "            out.append(t.lower())\n",
    "    return out\n",
    "\n",
    "def listtostring(liste):\n",
    "    a=''\n",
    "    for word in liste:\n",
    "        a = a+' '+word\n",
    "    return a"
   ]
  },
  {
   "cell_type": "code",
   "execution_count": 11,
   "metadata": {
    "collapsed": true
   },
   "outputs": [],
   "source": [
    "train['titlekw'] = train.title.apply(lambda x: processobs(x))\n",
    "train['abstractkw'] = train.abstract.apply(lambda x: processobs(x))\n",
    "test['titlekw'] = test.title.apply(lambda x: processobs(x))\n",
    "test['abstractkw'] = test.abstract.apply(lambda x: processobs(x))"
   ]
  },
  {
   "cell_type": "code",
   "execution_count": 12,
   "metadata": {
    "collapsed": false
   },
   "outputs": [
    {
     "data": {
      "text/html": [
       "<div>\n",
       "<table border=\"1\" class=\"dataframe\">\n",
       "  <thead>\n",
       "    <tr style=\"text-align: right;\">\n",
       "      <th></th>\n",
       "      <th>pmid</th>\n",
       "      <th>year</th>\n",
       "      <th>title</th>\n",
       "      <th>abstract</th>\n",
       "      <th>label</th>\n",
       "      <th>titlekw</th>\n",
       "      <th>abstractkw</th>\n",
       "    </tr>\n",
       "  </thead>\n",
       "  <tbody>\n",
       "    <tr>\n",
       "      <th>1</th>\n",
       "      <td>25046451</td>\n",
       "      <td>2015</td>\n",
       "      <td>Cytotoxic chemotherapy in the contemporary man...</td>\n",
       "      <td>For several years, docetaxel was the only trea...</td>\n",
       "      <td>C2</td>\n",
       "      <td>cytotoxic chemotherapy contemporary managemen...</td>\n",
       "      <td>several year docetaxel treatment show improve...</td>\n",
       "    </tr>\n",
       "    <tr>\n",
       "      <th>2</th>\n",
       "      <td>25193433</td>\n",
       "      <td>2014</td>\n",
       "      <td>Effectiveness and safety of cabazitaxel plus p...</td>\n",
       "      <td>To report the efficacy and safety of using cab...</td>\n",
       "      <td>C2</td>\n",
       "      <td>effectiveness safety cabazitaxel plus prednis...</td>\n",
       "      <td>report efficacy safety use cabazitaxel plus p...</td>\n",
       "    </tr>\n",
       "    <tr>\n",
       "      <th>3</th>\n",
       "      <td>27815387</td>\n",
       "      <td>2016</td>\n",
       "      <td>Polycomb-Mediated Disruption of an Androgen Re...</td>\n",
       "      <td>The lethal phenotype of castration-resistant p...</td>\n",
       "      <td>E3</td>\n",
       "      <td>polycomb-mediated disruption androgen recepto...</td>\n",
       "      <td>lethal phenotype castration-resistant prostat...</td>\n",
       "    </tr>\n",
       "    <tr>\n",
       "      <th>4</th>\n",
       "      <td>25687355</td>\n",
       "      <td>2015</td>\n",
       "      <td>Safety and effectiveness of enzalutamide in me...</td>\n",
       "      <td>Enzalutamide (MDV3100) is a second-generation ...</td>\n",
       "      <td>E3</td>\n",
       "      <td>safety effectiveness enzalutamide men metasta...</td>\n",
       "      <td>enzalutamide mdv3100 second-generation androg...</td>\n",
       "    </tr>\n",
       "    <tr>\n",
       "      <th>5</th>\n",
       "      <td>23044721</td>\n",
       "      <td>2012</td>\n",
       "      <td>Peg-filgrastim and cabazitaxel in prostate can...</td>\n",
       "      <td>To determine the impact of prophylaxis with gr...</td>\n",
       "      <td>C2</td>\n",
       "      <td>peg-filgrastim cabazitaxel prostate cancer pa...</td>\n",
       "      <td>determine impact prophylaxis granulocyte-colo...</td>\n",
       "    </tr>\n",
       "  </tbody>\n",
       "</table>\n",
       "</div>"
      ],
      "text/plain": [
       "       pmid  year                                              title  \\\n",
       "1  25046451  2015  Cytotoxic chemotherapy in the contemporary man...   \n",
       "2  25193433  2014  Effectiveness and safety of cabazitaxel plus p...   \n",
       "3  27815387  2016  Polycomb-Mediated Disruption of an Androgen Re...   \n",
       "4  25687355  2015  Safety and effectiveness of enzalutamide in me...   \n",
       "5  23044721  2012  Peg-filgrastim and cabazitaxel in prostate can...   \n",
       "\n",
       "                                            abstract label  \\\n",
       "1  For several years, docetaxel was the only trea...    C2   \n",
       "2  To report the efficacy and safety of using cab...    C2   \n",
       "3  The lethal phenotype of castration-resistant p...    E3   \n",
       "4  Enzalutamide (MDV3100) is a second-generation ...    E3   \n",
       "5  To determine the impact of prophylaxis with gr...    C2   \n",
       "\n",
       "                                             titlekw  \\\n",
       "1   cytotoxic chemotherapy contemporary managemen...   \n",
       "2   effectiveness safety cabazitaxel plus prednis...   \n",
       "3   polycomb-mediated disruption androgen recepto...   \n",
       "4   safety effectiveness enzalutamide men metasta...   \n",
       "5   peg-filgrastim cabazitaxel prostate cancer pa...   \n",
       "\n",
       "                                          abstractkw  \n",
       "1   several year docetaxel treatment show improve...  \n",
       "2   report efficacy safety use cabazitaxel plus p...  \n",
       "3   lethal phenotype castration-resistant prostat...  \n",
       "4   enzalutamide mdv3100 second-generation androg...  \n",
       "5   determine impact prophylaxis granulocyte-colo...  "
      ]
     },
     "execution_count": 12,
     "metadata": {},
     "output_type": "execute_result"
    }
   ],
   "source": [
    "train.head(5)"
   ]
  },
  {
   "cell_type": "code",
   "execution_count": 13,
   "metadata": {
    "collapsed": false,
    "scrolled": true
   },
   "outputs": [
    {
     "data": {
      "text/html": [
       "<div>\n",
       "<table border=\"1\" class=\"dataframe\">\n",
       "  <thead>\n",
       "    <tr style=\"text-align: right;\">\n",
       "      <th></th>\n",
       "      <th>pmid</th>\n",
       "      <th>year</th>\n",
       "      <th>title</th>\n",
       "      <th>abstract</th>\n",
       "      <th>titlekw</th>\n",
       "      <th>abstractkw</th>\n",
       "    </tr>\n",
       "  </thead>\n",
       "  <tbody>\n",
       "    <tr>\n",
       "      <th>0</th>\n",
       "      <td>21382150</td>\n",
       "      <td>2011</td>\n",
       "      <td>Current and emerging treatment modalities for ...</td>\n",
       "      <td>Docetaxel-based therapy is established as the ...</td>\n",
       "      <td>current emerge treatment modality metastatic ...</td>\n",
       "      <td>docetaxel-based therapy establish standard fi...</td>\n",
       "    </tr>\n",
       "    <tr>\n",
       "      <th>1</th>\n",
       "      <td>27018069</td>\n",
       "      <td>2016</td>\n",
       "      <td>Enzalutamide in Japanese patients with chemoth...</td>\n",
       "      <td>To evaluate the treatment effects, safety and ...</td>\n",
       "      <td>enzalutamide japanese patient chemotherapy-na...</td>\n",
       "      <td>evaluate treatment effect safety pharmacokine...</td>\n",
       "    </tr>\n",
       "    <tr>\n",
       "      <th>2</th>\n",
       "      <td>24314736</td>\n",
       "      <td>2013</td>\n",
       "      <td>[Corticotherapy in castration-resistant prosta...</td>\n",
       "      <td>Corticosteroids are commonly used in the treat...</td>\n",
       "      <td>corticotherapy castration-resistant prostate ...</td>\n",
       "      <td>corticosteroids commonly use treatment prosta...</td>\n",
       "    </tr>\n",
       "    <tr>\n",
       "      <th>3</th>\n",
       "      <td>25907622</td>\n",
       "      <td>2015</td>\n",
       "      <td>Clinical outcomes in a contemporary series of ...</td>\n",
       "      <td>The prognosis of younger patients with prostat...</td>\n",
       "      <td>clinical outcome contemporary series `` young...</td>\n",
       "      <td>prognosis younger patient prostate cancer unc...</td>\n",
       "    </tr>\n",
       "    <tr>\n",
       "      <th>4</th>\n",
       "      <td>26633646</td>\n",
       "      <td>2015</td>\n",
       "      <td>Systemic Medical Treatment in Men with Metasta...</td>\n",
       "      <td>The approval or clinical evaluation of several...</td>\n",
       "      <td>systemic medical treatment men metastatic cas...</td>\n",
       "      <td>approval clinical evaluation several new agen...</td>\n",
       "    </tr>\n",
       "  </tbody>\n",
       "</table>\n",
       "</div>"
      ],
      "text/plain": [
       "       pmid  year                                              title  \\\n",
       "0  21382150  2011  Current and emerging treatment modalities for ...   \n",
       "1  27018069  2016  Enzalutamide in Japanese patients with chemoth...   \n",
       "2  24314736  2013  [Corticotherapy in castration-resistant prosta...   \n",
       "3  25907622  2015  Clinical outcomes in a contemporary series of ...   \n",
       "4  26633646  2015  Systemic Medical Treatment in Men with Metasta...   \n",
       "\n",
       "                                            abstract  \\\n",
       "0  Docetaxel-based therapy is established as the ...   \n",
       "1  To evaluate the treatment effects, safety and ...   \n",
       "2  Corticosteroids are commonly used in the treat...   \n",
       "3  The prognosis of younger patients with prostat...   \n",
       "4  The approval or clinical evaluation of several...   \n",
       "\n",
       "                                             titlekw  \\\n",
       "0   current emerge treatment modality metastatic ...   \n",
       "1   enzalutamide japanese patient chemotherapy-na...   \n",
       "2   corticotherapy castration-resistant prostate ...   \n",
       "3   clinical outcome contemporary series `` young...   \n",
       "4   systemic medical treatment men metastatic cas...   \n",
       "\n",
       "                                          abstractkw  \n",
       "0   docetaxel-based therapy establish standard fi...  \n",
       "1   evaluate treatment effect safety pharmacokine...  \n",
       "2   corticosteroids commonly use treatment prosta...  \n",
       "3   prognosis younger patient prostate cancer unc...  \n",
       "4   approval clinical evaluation several new agen...  "
      ]
     },
     "execution_count": 13,
     "metadata": {},
     "output_type": "execute_result"
    }
   ],
   "source": [
    "test.head(5)"
   ]
  },
  {
   "cell_type": "code",
   "execution_count": 14,
   "metadata": {
    "collapsed": true
   },
   "outputs": [],
   "source": [
    "from sklearn.feature_extraction.text import CountVectorizer\n",
    "from sklearn.feature_extraction.text import TfidfTransformer\n",
    "\n",
    "def vectorize_Tfidf(df, column):\n",
    "    vectorizer = CountVectorizer(min_df = 0.1) #on ne considère que les mots ayant une fréquence supérieure à 0.1\n",
    "    vectorizer.fit(train[column])\n",
    "    VECT = vectorizer.transform(df[column])\n",
    "    vectorizer1 = TfidfTransformer(norm=u'l2', use_idf=True, smooth_idf=True, sublinear_tf=False)\n",
    "    return vectorizer1.fit_transform(VECT)"
   ]
  },
  {
   "cell_type": "code",
   "execution_count": 15,
   "metadata": {
    "collapsed": true
   },
   "outputs": [],
   "source": [
    "#Nous allons concaténer les matrices obtenues et ajouter la colonne 'year'. \n",
    "\n",
    "from scipy.sparse import hstack\n",
    "\n",
    "def getarray(df):\n",
    "    title = vectorize_Tfidf(df, 'titlekw')\n",
    "    abst = vectorize_Tfidf(df, 'abstractkw')\n",
    "    hh = hstack((title, abst)).toarray()\n",
    "    return np.insert(hh,0,np.asarray(df['year']), axis=1)"
   ]
  },
  {
   "cell_type": "code",
   "execution_count": 16,
   "metadata": {
    "collapsed": false
   },
   "outputs": [
    {
     "name": "stdout",
     "output_type": "stream",
     "text": [
      "(128, 211)\n",
      "(40, 211)\n"
     ]
    }
   ],
   "source": [
    "X_train = getarray(train)\n",
    "Y_train = np.asarray(train['label'])\n",
    "X_test = getarray(test)\n",
    "print(X_train.shape)\n",
    "print(X_test.shape)"
   ]
  },
  {
   "cell_type": "markdown",
   "metadata": {},
   "source": [
    "## Choix du classifieur\n",
    "Nous allons tester les classifieurs suivants et choisir par validation croisée le meilleur, que nous utiliserons pour la base de test.\n",
    "\n",
    "-RandomForest\n",
    "-Réseaux de neurones\n",
    "-K plus proches voisins\n",
    "-Gradient Boosting\n",
    "-Adaboost\n"
   ]
  },
  {
   "cell_type": "code",
   "execution_count": 22,
   "metadata": {
    "collapsed": false
   },
   "outputs": [],
   "source": [
    "import sklearn.cross_validation\n",
    "from sklearn.cross_validation import cross_val_score,KFold\n",
    "from sklearn.ensemble import RandomForestClassifier\n",
    "from sklearn.neighbors import KNeighborsClassifier\n",
    "from sklearn.ensemble import GradientBoostingClassifier\n",
    "from sklearn.ensemble import AdaBoostClassifier\n",
    "from sklearn.neural_network import MLPClassifier\n",
    "\n",
    "clfs={\n",
    "    'RF50':RandomForestClassifier(n_estimators=50),\n",
    "    'RF10':RandomForestClassifier(n_estimators=10),\n",
    "    'KNN10':KNeighborsClassifier(n_neighbors=10),\n",
    "    'KNN5':KNeighborsClassifier(n_neighbors=5),\n",
    "    'AD': AdaBoostClassifier(n_estimators=50),\n",
    "    'GB':GradientBoostingClassifier(n_estimators=100),\n",
    "    'MLP': MLPClassifier()\n",
    "}\n",
    "\n",
    "#fonction qui lance la comparaison des algorithmes\n",
    "import time\n",
    "def run_classifiers(clfs, X, Y):\n",
    "    kf=KFold(128,n_folds=12,shuffle=True,random_state=0)\n",
    "    for i in clfs:\n",
    "        clf=clfs[i]\n",
    "        print(i)\n",
    "        start = time.time()\n",
    "        for score in [\"accuracy\"]:\n",
    "            print(score+\" : \")\n",
    "            scores= cross_val_score(clf, X, Y,scoring=score, cv=kf)\n",
    "            print(\"%0.3f \" % (scores.mean()))\n",
    "        print(\"temps écoulé : %0.6f\" % (time.time() - start))"
   ]
  },
  {
   "cell_type": "code",
   "execution_count": 24,
   "metadata": {
    "collapsed": false
   },
   "outputs": [
    {
     "name": "stdout",
     "output_type": "stream",
     "text": [
      "RF50\n",
      "accuracy : \n",
      "0.820 \n",
      "temps écoulé : 0.737443\n",
      "RF10\n",
      "accuracy : \n",
      "0.694 \n",
      "temps écoulé : 0.172765\n",
      "KNN10\n",
      "accuracy : \n",
      "0.604 \n",
      "temps écoulé : 0.023047\n",
      "KNN5\n",
      "accuracy : \n",
      "0.603 \n",
      "temps écoulé : 0.022074\n",
      "AD\n",
      "accuracy : \n",
      "0.627 \n",
      "temps écoulé : 1.066411\n",
      "GB\n",
      "accuracy : \n",
      "0.861 \n",
      "temps écoulé : 4.881024\n",
      "MLP\n",
      "accuracy : \n",
      "0.274 \n",
      "temps écoulé : 0.155168\n"
     ]
    }
   ],
   "source": [
    "run_classifiers(clfs, X_train, Y_train)"
   ]
  },
  {
   "cell_type": "markdown",
   "metadata": {},
   "source": [
    "La méthode la plus précise est le Gradient Boosting, avec une précision générale de 0.861. Nous allons donc l'utiliser."
   ]
  },
  {
   "cell_type": "markdown",
   "metadata": {},
   "source": [
    "## Test"
   ]
  },
  {
   "cell_type": "code",
   "execution_count": 25,
   "metadata": {
    "collapsed": false
   },
   "outputs": [
    {
     "name": "stdout",
     "output_type": "stream",
     "text": [
      "['C2' 'E3' 'A1' 'C2' 'C2' 'E3' 'C2' 'E3' 'C2' 'C2' 'E3' 'A1' 'C2' 'A1' 'A1'\n",
      " 'C2' 'E3' 'C2' 'A1' 'E3' 'A1' 'E3' 'C2' 'E3' 'C2' 'A1' 'C2' 'C2' 'C2' 'A1'\n",
      " 'E3' 'C2' 'C2' 'C2' 'A1' 'E3' 'A1' 'E3' 'C2' 'A1']\n"
     ]
    }
   ],
   "source": [
    "gb = GradientBoostingClassifier(n_estimators=100)\n",
    "gb.fit(X_train, Y_train)\n",
    "result = gb.predict(X_test)\n",
    "print(result)"
   ]
  },
  {
   "cell_type": "code",
   "execution_count": 29,
   "metadata": {
    "collapsed": false
   },
   "outputs": [],
   "source": [
    "#création du csv\n",
    "\n",
    "test['predictedlabel'] = result\n",
    "sub = test[['pmid','predictedlabel']]\n",
    "sub.to_csv('submission.csv', encoding='utf-8',index=False)"
   ]
  },
  {
   "cell_type": "code",
   "execution_count": 30,
   "metadata": {
    "collapsed": false
   },
   "outputs": [
    {
     "data": {
      "text/html": [
       "<div>\n",
       "<table border=\"1\" class=\"dataframe\">\n",
       "  <thead>\n",
       "    <tr style=\"text-align: right;\">\n",
       "      <th></th>\n",
       "      <th>pmid</th>\n",
       "      <th>predictedlabel</th>\n",
       "    </tr>\n",
       "  </thead>\n",
       "  <tbody>\n",
       "    <tr>\n",
       "      <th>0</th>\n",
       "      <td>21382150</td>\n",
       "      <td>C2</td>\n",
       "    </tr>\n",
       "    <tr>\n",
       "      <th>1</th>\n",
       "      <td>27018069</td>\n",
       "      <td>E3</td>\n",
       "    </tr>\n",
       "    <tr>\n",
       "      <th>2</th>\n",
       "      <td>24314736</td>\n",
       "      <td>A1</td>\n",
       "    </tr>\n",
       "    <tr>\n",
       "      <th>3</th>\n",
       "      <td>25907622</td>\n",
       "      <td>C2</td>\n",
       "    </tr>\n",
       "    <tr>\n",
       "      <th>4</th>\n",
       "      <td>26633646</td>\n",
       "      <td>C2</td>\n",
       "    </tr>\n",
       "    <tr>\n",
       "      <th>5</th>\n",
       "      <td>27474149</td>\n",
       "      <td>E3</td>\n",
       "    </tr>\n",
       "    <tr>\n",
       "      <th>6</th>\n",
       "      <td>21076710</td>\n",
       "      <td>C2</td>\n",
       "    </tr>\n",
       "    <tr>\n",
       "      <th>7</th>\n",
       "      <td>23436650</td>\n",
       "      <td>E3</td>\n",
       "    </tr>\n",
       "    <tr>\n",
       "      <th>8</th>\n",
       "      <td>22522765</td>\n",
       "      <td>C2</td>\n",
       "    </tr>\n",
       "    <tr>\n",
       "      <th>9</th>\n",
       "      <td>26829012</td>\n",
       "      <td>C2</td>\n",
       "    </tr>\n",
       "    <tr>\n",
       "      <th>10</th>\n",
       "      <td>26083457</td>\n",
       "      <td>E3</td>\n",
       "    </tr>\n",
       "    <tr>\n",
       "      <th>11</th>\n",
       "      <td>24458472</td>\n",
       "      <td>A1</td>\n",
       "    </tr>\n",
       "    <tr>\n",
       "      <th>12</th>\n",
       "      <td>21854708</td>\n",
       "      <td>C2</td>\n",
       "    </tr>\n",
       "    <tr>\n",
       "      <th>13</th>\n",
       "      <td>27916295</td>\n",
       "      <td>A1</td>\n",
       "    </tr>\n",
       "    <tr>\n",
       "      <th>14</th>\n",
       "      <td>26331358</td>\n",
       "      <td>A1</td>\n",
       "    </tr>\n",
       "    <tr>\n",
       "      <th>15</th>\n",
       "      <td>25139705</td>\n",
       "      <td>C2</td>\n",
       "    </tr>\n",
       "    <tr>\n",
       "      <th>16</th>\n",
       "      <td>27382012</td>\n",
       "      <td>E3</td>\n",
       "    </tr>\n",
       "    <tr>\n",
       "      <th>17</th>\n",
       "      <td>21577234</td>\n",
       "      <td>C2</td>\n",
       "    </tr>\n",
       "    <tr>\n",
       "      <th>18</th>\n",
       "      <td>25018038</td>\n",
       "      <td>A1</td>\n",
       "    </tr>\n",
       "    <tr>\n",
       "      <th>19</th>\n",
       "      <td>26509262</td>\n",
       "      <td>E3</td>\n",
       "    </tr>\n",
       "    <tr>\n",
       "      <th>20</th>\n",
       "      <td>26044568</td>\n",
       "      <td>A1</td>\n",
       "    </tr>\n",
       "    <tr>\n",
       "      <th>21</th>\n",
       "      <td>23042445</td>\n",
       "      <td>E3</td>\n",
       "    </tr>\n",
       "    <tr>\n",
       "      <th>22</th>\n",
       "      <td>26311471</td>\n",
       "      <td>C2</td>\n",
       "    </tr>\n",
       "    <tr>\n",
       "      <th>23</th>\n",
       "      <td>26454199</td>\n",
       "      <td>E3</td>\n",
       "    </tr>\n",
       "    <tr>\n",
       "      <th>24</th>\n",
       "      <td>24276853</td>\n",
       "      <td>C2</td>\n",
       "    </tr>\n",
       "    <tr>\n",
       "      <th>25</th>\n",
       "      <td>27515296</td>\n",
       "      <td>A1</td>\n",
       "    </tr>\n",
       "    <tr>\n",
       "      <th>26</th>\n",
       "      <td>21680545</td>\n",
       "      <td>C2</td>\n",
       "    </tr>\n",
       "    <tr>\n",
       "      <th>27</th>\n",
       "      <td>25420520</td>\n",
       "      <td>C2</td>\n",
       "    </tr>\n",
       "    <tr>\n",
       "      <th>28</th>\n",
       "      <td>27572899</td>\n",
       "      <td>C2</td>\n",
       "    </tr>\n",
       "    <tr>\n",
       "      <th>29</th>\n",
       "      <td>24314737</td>\n",
       "      <td>A1</td>\n",
       "    </tr>\n",
       "    <tr>\n",
       "      <th>30</th>\n",
       "      <td>25927139</td>\n",
       "      <td>E3</td>\n",
       "    </tr>\n",
       "    <tr>\n",
       "      <th>31</th>\n",
       "      <td>27822685</td>\n",
       "      <td>C2</td>\n",
       "    </tr>\n",
       "    <tr>\n",
       "      <th>32</th>\n",
       "      <td>25856659</td>\n",
       "      <td>C2</td>\n",
       "    </tr>\n",
       "    <tr>\n",
       "      <th>33</th>\n",
       "      <td>25848909</td>\n",
       "      <td>C2</td>\n",
       "    </tr>\n",
       "    <tr>\n",
       "      <th>34</th>\n",
       "      <td>24741024</td>\n",
       "      <td>A1</td>\n",
       "    </tr>\n",
       "    <tr>\n",
       "      <th>35</th>\n",
       "      <td>28191869</td>\n",
       "      <td>E3</td>\n",
       "    </tr>\n",
       "    <tr>\n",
       "      <th>36</th>\n",
       "      <td>28183253</td>\n",
       "      <td>A1</td>\n",
       "    </tr>\n",
       "    <tr>\n",
       "      <th>37</th>\n",
       "      <td>26585210</td>\n",
       "      <td>E3</td>\n",
       "    </tr>\n",
       "    <tr>\n",
       "      <th>38</th>\n",
       "      <td>27618249</td>\n",
       "      <td>C2</td>\n",
       "    </tr>\n",
       "    <tr>\n",
       "      <th>39</th>\n",
       "      <td>26992199</td>\n",
       "      <td>A1</td>\n",
       "    </tr>\n",
       "  </tbody>\n",
       "</table>\n",
       "</div>"
      ],
      "text/plain": [
       "        pmid predictedlabel\n",
       "0   21382150             C2\n",
       "1   27018069             E3\n",
       "2   24314736             A1\n",
       "3   25907622             C2\n",
       "4   26633646             C2\n",
       "5   27474149             E3\n",
       "6   21076710             C2\n",
       "7   23436650             E3\n",
       "8   22522765             C2\n",
       "9   26829012             C2\n",
       "10  26083457             E3\n",
       "11  24458472             A1\n",
       "12  21854708             C2\n",
       "13  27916295             A1\n",
       "14  26331358             A1\n",
       "15  25139705             C2\n",
       "16  27382012             E3\n",
       "17  21577234             C2\n",
       "18  25018038             A1\n",
       "19  26509262             E3\n",
       "20  26044568             A1\n",
       "21  23042445             E3\n",
       "22  26311471             C2\n",
       "23  26454199             E3\n",
       "24  24276853             C2\n",
       "25  27515296             A1\n",
       "26  21680545             C2\n",
       "27  25420520             C2\n",
       "28  27572899             C2\n",
       "29  24314737             A1\n",
       "30  25927139             E3\n",
       "31  27822685             C2\n",
       "32  25856659             C2\n",
       "33  25848909             C2\n",
       "34  24741024             A1\n",
       "35  28191869             E3\n",
       "36  28183253             A1\n",
       "37  26585210             E3\n",
       "38  27618249             C2\n",
       "39  26992199             A1"
      ]
     },
     "execution_count": 30,
     "metadata": {},
     "output_type": "execute_result"
    }
   ],
   "source": [
    "pd.read_csv('./submission.csv', delimiter=',')"
   ]
  }
 ],
 "metadata": {
  "kernelspec": {
   "display_name": "Python 3",
   "language": "python",
   "name": "python3"
  },
  "language_info": {
   "codemirror_mode": {
    "name": "ipython",
    "version": 3
   },
   "file_extension": ".py",
   "mimetype": "text/x-python",
   "name": "python",
   "nbconvert_exporter": "python",
   "pygments_lexer": "ipython3",
   "version": "3.6.0"
  }
 },
 "nbformat": 4,
 "nbformat_minor": 2
}
